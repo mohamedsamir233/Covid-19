{
 "cells": [
  {
   "cell_type": "code",
   "execution_count": 1,
   "id": "56d6b1be-7013-4000-a1d8-33c2963081e5",
   "metadata": {},
   "outputs": [],
   "source": [
    "import pandas as pd"
   ]
  },
  {
   "cell_type": "code",
   "execution_count": 2,
   "id": "90ccad5a-01ca-4ce7-bf2d-f3147baf120e",
   "metadata": {},
   "outputs": [],
   "source": [
    "df=pd.read_csv(\"country_wise_latest.csv\",encoding=\"iso-8859-1\")"
   ]
  },
  {
   "cell_type": "code",
   "execution_count": 3,
   "id": "605d45fe-8f60-487a-88b0-ff2f3e73fff0",
   "metadata": {},
   "outputs": [
    {
     "data": {
      "text/plain": [
       "Index(['Country/Region', 'Confirmed', 'Deaths', 'Recovered', 'Active',\n",
       "       'New cases', 'New deaths', 'New recovered', 'Deaths / 100 Cases',\n",
       "       'Recovered / 100 Cases', 'Deaths / 100 Recovered',\n",
       "       'Confirmed last week', '1 week change', '1 week % increase',\n",
       "       'WHO Region'],\n",
       "      dtype='object')"
      ]
     },
     "execution_count": 3,
     "metadata": {},
     "output_type": "execute_result"
    }
   ],
   "source": [
    "df.columns "
   ]
  },
  {
   "cell_type": "code",
   "execution_count": 4,
   "id": "a953be9b-ac68-4b31-bf2e-03a1f41e6728",
   "metadata": {},
   "outputs": [],
   "source": [
    "df.drop(columns=['Confirmed last week', '1 week change', '1 week % increase',\n",
    "       'WHO Region','Deaths / 100 Recovered'],axis=1,inplace=True)"
   ]
  },
  {
   "cell_type": "code",
   "execution_count": 5,
   "id": "0cd803c3-63e8-4680-be36-a19f6afe2ff6",
   "metadata": {},
   "outputs": [
    {
     "data": {
      "text/plain": [
       "Country/Region           0\n",
       "Confirmed                0\n",
       "Deaths                   0\n",
       "Recovered                0\n",
       "Active                   0\n",
       "New cases                0\n",
       "New deaths               0\n",
       "New recovered            0\n",
       "Deaths / 100 Cases       0\n",
       "Recovered / 100 Cases    0\n",
       "dtype: int64"
      ]
     },
     "execution_count": 5,
     "metadata": {},
     "output_type": "execute_result"
    }
   ],
   "source": [
    "df.isnull().sum ()"
   ]
  },
  {
   "cell_type": "code",
   "execution_count": 6,
   "id": "8a9c36ba-a944-472f-a79b-c129b7997d23",
   "metadata": {},
   "outputs": [
    {
     "name": "stdout",
     "output_type": "stream",
     "text": [
      "<class 'pandas.core.frame.DataFrame'>\n",
      "RangeIndex: 187 entries, 0 to 186\n",
      "Data columns (total 10 columns):\n",
      " #   Column                 Non-Null Count  Dtype  \n",
      "---  ------                 --------------  -----  \n",
      " 0   Country/Region         187 non-null    object \n",
      " 1   Confirmed              187 non-null    int64  \n",
      " 2   Deaths                 187 non-null    int64  \n",
      " 3   Recovered              187 non-null    int64  \n",
      " 4   Active                 187 non-null    int64  \n",
      " 5   New cases              187 non-null    int64  \n",
      " 6   New deaths             187 non-null    int64  \n",
      " 7   New recovered          187 non-null    int64  \n",
      " 8   Deaths / 100 Cases     187 non-null    float64\n",
      " 9   Recovered / 100 Cases  187 non-null    float64\n",
      "dtypes: float64(2), int64(7), object(1)\n",
      "memory usage: 14.7+ KB\n"
     ]
    }
   ],
   "source": [
    "df.info ()"
   ]
  },
  {
   "cell_type": "code",
   "execution_count": 7,
   "id": "e8cf2f6e-d921-4eb6-9fd9-0c1a59162c79",
   "metadata": {},
   "outputs": [
    {
     "data": {
      "text/html": [
       "<div>\n",
       "<style scoped>\n",
       "    .dataframe tbody tr th:only-of-type {\n",
       "        vertical-align: middle;\n",
       "    }\n",
       "\n",
       "    .dataframe tbody tr th {\n",
       "        vertical-align: top;\n",
       "    }\n",
       "\n",
       "    .dataframe thead th {\n",
       "        text-align: right;\n",
       "    }\n",
       "</style>\n",
       "<table border=\"1\" class=\"dataframe\">\n",
       "  <thead>\n",
       "    <tr style=\"text-align: right;\">\n",
       "      <th></th>\n",
       "      <th>Country/Region</th>\n",
       "      <th>Confirmed</th>\n",
       "      <th>Deaths</th>\n",
       "      <th>Recovered</th>\n",
       "      <th>Active</th>\n",
       "      <th>New cases</th>\n",
       "      <th>New deaths</th>\n",
       "      <th>New recovered</th>\n",
       "      <th>Deaths / 100 Cases</th>\n",
       "      <th>Recovered / 100 Cases</th>\n",
       "    </tr>\n",
       "  </thead>\n",
       "  <tbody>\n",
       "    <tr>\n",
       "      <th>164</th>\n",
       "      <td>Taiwan*</td>\n",
       "      <td>462</td>\n",
       "      <td>7</td>\n",
       "      <td>440</td>\n",
       "      <td>15</td>\n",
       "      <td>4</td>\n",
       "      <td>0</td>\n",
       "      <td>0</td>\n",
       "      <td>1.52</td>\n",
       "      <td>95.24</td>\n",
       "    </tr>\n",
       "    <tr>\n",
       "      <th>118</th>\n",
       "      <td>Namibia</td>\n",
       "      <td>1843</td>\n",
       "      <td>8</td>\n",
       "      <td>101</td>\n",
       "      <td>1734</td>\n",
       "      <td>68</td>\n",
       "      <td>0</td>\n",
       "      <td>26</td>\n",
       "      <td>0.43</td>\n",
       "      <td>5.48</td>\n",
       "    </tr>\n",
       "    <tr>\n",
       "      <th>20</th>\n",
       "      <td>Bolivia</td>\n",
       "      <td>71181</td>\n",
       "      <td>2647</td>\n",
       "      <td>21478</td>\n",
       "      <td>47056</td>\n",
       "      <td>1752</td>\n",
       "      <td>64</td>\n",
       "      <td>309</td>\n",
       "      <td>3.72</td>\n",
       "      <td>30.17</td>\n",
       "    </tr>\n",
       "    <tr>\n",
       "      <th>127</th>\n",
       "      <td>Oman</td>\n",
       "      <td>77058</td>\n",
       "      <td>393</td>\n",
       "      <td>57028</td>\n",
       "      <td>19637</td>\n",
       "      <td>1053</td>\n",
       "      <td>9</td>\n",
       "      <td>1729</td>\n",
       "      <td>0.51</td>\n",
       "      <td>74.01</td>\n",
       "    </tr>\n",
       "    <tr>\n",
       "      <th>7</th>\n",
       "      <td>Armenia</td>\n",
       "      <td>37390</td>\n",
       "      <td>711</td>\n",
       "      <td>26665</td>\n",
       "      <td>10014</td>\n",
       "      <td>73</td>\n",
       "      <td>6</td>\n",
       "      <td>187</td>\n",
       "      <td>1.90</td>\n",
       "      <td>71.32</td>\n",
       "    </tr>\n",
       "    <tr>\n",
       "      <th>108</th>\n",
       "      <td>Malta</td>\n",
       "      <td>701</td>\n",
       "      <td>9</td>\n",
       "      <td>665</td>\n",
       "      <td>27</td>\n",
       "      <td>1</td>\n",
       "      <td>0</td>\n",
       "      <td>0</td>\n",
       "      <td>1.28</td>\n",
       "      <td>94.86</td>\n",
       "    </tr>\n",
       "    <tr>\n",
       "      <th>35</th>\n",
       "      <td>Chile</td>\n",
       "      <td>347923</td>\n",
       "      <td>9187</td>\n",
       "      <td>319954</td>\n",
       "      <td>18782</td>\n",
       "      <td>2133</td>\n",
       "      <td>75</td>\n",
       "      <td>1859</td>\n",
       "      <td>2.64</td>\n",
       "      <td>91.96</td>\n",
       "    </tr>\n",
       "    <tr>\n",
       "      <th>36</th>\n",
       "      <td>China</td>\n",
       "      <td>86783</td>\n",
       "      <td>4656</td>\n",
       "      <td>78869</td>\n",
       "      <td>3258</td>\n",
       "      <td>213</td>\n",
       "      <td>4</td>\n",
       "      <td>7</td>\n",
       "      <td>5.37</td>\n",
       "      <td>90.88</td>\n",
       "    </tr>\n",
       "    <tr>\n",
       "      <th>92</th>\n",
       "      <td>Kuwait</td>\n",
       "      <td>64379</td>\n",
       "      <td>438</td>\n",
       "      <td>55057</td>\n",
       "      <td>8884</td>\n",
       "      <td>606</td>\n",
       "      <td>5</td>\n",
       "      <td>684</td>\n",
       "      <td>0.68</td>\n",
       "      <td>85.52</td>\n",
       "    </tr>\n",
       "    <tr>\n",
       "      <th>155</th>\n",
       "      <td>South Korea</td>\n",
       "      <td>14203</td>\n",
       "      <td>300</td>\n",
       "      <td>13007</td>\n",
       "      <td>896</td>\n",
       "      <td>28</td>\n",
       "      <td>1</td>\n",
       "      <td>102</td>\n",
       "      <td>2.11</td>\n",
       "      <td>91.58</td>\n",
       "    </tr>\n",
       "  </tbody>\n",
       "</table>\n",
       "</div>"
      ],
      "text/plain": [
       "    Country/Region  Confirmed  Deaths  Recovered  Active  New cases  \\\n",
       "164        Taiwan*        462       7        440      15          4   \n",
       "118        Namibia       1843       8        101    1734         68   \n",
       "20         Bolivia      71181    2647      21478   47056       1752   \n",
       "127           Oman      77058     393      57028   19637       1053   \n",
       "7          Armenia      37390     711      26665   10014         73   \n",
       "108          Malta        701       9        665      27          1   \n",
       "35           Chile     347923    9187     319954   18782       2133   \n",
       "36           China      86783    4656      78869    3258        213   \n",
       "92          Kuwait      64379     438      55057    8884        606   \n",
       "155    South Korea      14203     300      13007     896         28   \n",
       "\n",
       "     New deaths  New recovered  Deaths / 100 Cases  Recovered / 100 Cases  \n",
       "164           0              0                1.52                  95.24  \n",
       "118           0             26                0.43                   5.48  \n",
       "20           64            309                3.72                  30.17  \n",
       "127           9           1729                0.51                  74.01  \n",
       "7             6            187                1.90                  71.32  \n",
       "108           0              0                1.28                  94.86  \n",
       "35           75           1859                2.64                  91.96  \n",
       "36            4              7                5.37                  90.88  \n",
       "92            5            684                0.68                  85.52  \n",
       "155           1            102                2.11                  91.58  "
      ]
     },
     "execution_count": 7,
     "metadata": {},
     "output_type": "execute_result"
    }
   ],
   "source": [
    "df.sample (10)"
   ]
  },
  {
   "cell_type": "code",
   "execution_count": 8,
   "id": "a7fa9ca4-1044-4ec5-8864-8b1b42629e41",
   "metadata": {},
   "outputs": [],
   "source": [
    "df.to_csv(\"covid_cases.csv\",index=False)"
   ]
  },
  {
   "cell_type": "code",
   "execution_count": null,
   "id": "dc8f65c8-926c-4dcc-a88f-de640a041732",
   "metadata": {},
   "outputs": [],
   "source": []
  }
 ],
 "metadata": {
  "kernelspec": {
   "display_name": "Python 3 (ipykernel)",
   "language": "python",
   "name": "python3"
  },
  "language_info": {
   "codemirror_mode": {
    "name": "ipython",
    "version": 3
   },
   "file_extension": ".py",
   "mimetype": "text/x-python",
   "name": "python",
   "nbconvert_exporter": "python",
   "pygments_lexer": "ipython3",
   "version": "3.13.0"
  }
 },
 "nbformat": 4,
 "nbformat_minor": 5
}
